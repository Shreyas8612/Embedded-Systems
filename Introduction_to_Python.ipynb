{
 "metadata": {
  "kernelspec": {
   "name": "python3",
   "display_name": "Python 3 (ipykernel)",
   "language": "python"
  },
  "language_info": {
   "codemirror_mode": {
    "name": "python",
    "version": 3
   },
   "file_extension": ".py",
   "mimetype": "text/x-python",
   "name": "python",
   "nbconvert_exporter": "python",
   "pygments_lexer": "ipython3",
   "version": "3.8"
  },
  "colab": {
   "provenance": []
  }
 },
 "nbformat_minor": 0,
 "nbformat": 4,
 "cells": [
  {
   "cell_type": "markdown",
   "source": [
    "# EEE3027 Embedded Systems - Programming Lab 1\n",
    "> This is the first introductory lab for the second part of this module focusing on Machine Learning using Python.\n",
    "\n",
    "To properly understand JupyterLab, please consider looking at the link below\n",
    "-https://jupyterlab.readthedocs.io/en/stable/index.html\n",
    "\n",
    "## Fundamentals of Python Programming for Data Analysis\n",
    "> This Lab focuses on the fundamentals of Python programming including variables, data types, lists & dictionaries, operators, conditional statements, loops, modules, functions, and Debugging Techniques.\n",
    "\n",
    "> Please reference the programming labs slides for theoretical knowledge\n",
    "\n",
    "Some useful links include\n",
    "- https://libguides.ntu.edu.sg/python\n",
    "- https://www.enjoyalgorithms.com/blog/basic-python-for-ml-data-science"
   ],
   "metadata": {
    "id": "QoARZtrmuaLP"
   }
  },
  {
   "cell_type": "markdown",
   "source": [],
   "metadata": {
    "id": "W811PsT_uaLR"
   }
  },
  {
   "cell_type": "markdown",
   "source": [
    "### Variables"
   ],
   "metadata": {
    "id": "3YGFTLqDuaLS"
   }
  },
  {
   "cell_type": "markdown",
   "source": [
    "#### Examples:"
   ],
   "metadata": {
    "id": "0Nd2r1beuaLS"
   }
  },
  {
   "cell_type": "code",
   "source": [
    "box = \"books\"  \t# The string value \"books\" is assigned to the variable box"
   ],
   "metadata": {
    "trusted": true,
    "scrolled": true,
    "id": "cu4LbcRouaLS"
   },
   "outputs": [],
   "execution_count": null
  },
  {
   "cell_type": "code",
   "source": [
    "age = 23\t# The number value 23 is assigned to (=) the variable age"
   ],
   "metadata": {
    "trusted": true,
    "scrolled": true,
    "id": "GU2evSIJuaLT"
   },
   "outputs": [],
   "execution_count": null
  },
  {
   "cell_type": "code",
   "source": [
    "building_name = \"Merz Court\"\t#The string value \"Merz Court\" is assigned to the variable building_name"
   ],
   "metadata": {
    "trusted": true,
    "scrolled": true,
    "id": "Ae7T-bDsuaLU"
   },
   "outputs": [],
   "execution_count": null
  },
  {
   "cell_type": "code",
   "source": [
    "myList = [\"apples\", \"bananas\", \"cherries\"]\t# The list of fruits are assigned to the variable myList."
   ],
   "metadata": {
    "trusted": true,
    "scrolled": true,
    "id": "SQL-PisfuaLU"
   },
   "outputs": [],
   "execution_count": null
  },
  {
   "cell_type": "markdown",
   "source": [
    "***Tip!**  - It is good practice to choose meaningful/descriptive names that reflect the variable’s content for easier identification when you or someone else revisits your codes.*"
   ],
   "metadata": {
    "scrolled": true,
    "id": "qtVWF5Z5uaLU"
   }
  },
  {
   "cell_type": "markdown",
   "source": [
    "#### Exercise:\n",
    "1. Create a variable called name, and store your first name and second name as a string into the variable you created and print.\n",
    "\n",
    "*TIP! - Use **print()** function to print*"
   ],
   "metadata": {
    "id": "miOazhSAuaLV"
   }
  },
  {
   "cell_type": "code",
   "source": [
    "# Write code here.\n",
    "Name = \"Shreyas Ravi\"\n",
    "print(Name)"
   ],
   "metadata": {
    "trusted": true,
    "id": "dZXlGBV_uaLV",
    "outputId": "0c11c98d-040f-422c-ad1b-1ab4ff95f7e5"
   },
   "outputs": [
    {
     "name": "stdout",
     "output_type": "stream",
     "text": "Shreyas Ravi\n"
    }
   ],
   "execution_count": null
  },
  {
   "cell_type": "markdown",
   "source": [
    "2. Are you able to print the following and give reasons why? If not make appropriate changes to make all printable\n",
    "-  YEAR = 1995\n",
    "-  course_code = \"EEE3027\"\n",
    "-  01_street = \"Some Street\"\n",
    "-  my-birth-year = xxxx"
   ],
   "metadata": {
    "id": "EsDLyXj7uaLW"
   }
  },
  {
   "cell_type": "code",
   "source": [
    "# Write code here.\n",
    "YEAR = 1995\n",
    "course_code = \"EEE3027\"\n",
    "# 01_street = \"Some Street\" -- Cannot print as starts with a numerical\n",
    "Street_01 = \"Some Street\"\n",
    "# my-birth-year = xxxx -- Cannot print as 'minus' operator is being used in a variable, and xxxx must be given as a string\n",
    "my_birth_year = \"17.03.2004\"\n",
    "print(YEAR)\n",
    "print(course_code)\n",
    "print(Street_01)\n",
    "print(my_birth_year)"
   ],
   "metadata": {
    "trusted": true,
    "id": "PcG0WHpVuaLW",
    "outputId": "e3df21c3-6222-4ab0-cab9-e1e6df474d71"
   },
   "outputs": [
    {
     "name": "stdout",
     "output_type": "stream",
     "text": "1995\nEEE3027\nSome Street\n17.03.2004\n"
    }
   ],
   "execution_count": null
  },
  {
   "cell_type": "markdown",
   "source": [
    "### Data Types:"
   ],
   "metadata": {
    "id": "3X1j-T1kuaLX"
   }
  },
  {
   "cell_type": "markdown",
   "source": [
    "#### Examples:"
   ],
   "metadata": {
    "id": "y1gZALXluaLX"
   }
  },
  {
   "cell_type": "code",
   "source": [
    "#Step 1: Assign your data to variables\n",
    "example_1 = \"Hello World\"\n",
    "example_2 = 254\n",
    "example_3 = 25.43\n",
    "example_4 = [\"Anna\", \"Bella\", \"Cora\"]\n",
    "\n",
    "#Step 2: Check data types\n",
    "print(type(example_1))\n",
    "print(type(example_2))\n",
    "print(type(example_3))\n",
    "print(type(example_4))"
   ],
   "metadata": {
    "trusted": true,
    "id": "6oXRlDjvuaLX"
   },
   "outputs": [],
   "execution_count": null
  },
  {
   "cell_type": "code",
   "source": [
    "#-------------------------------------------------------------------------------------\n",
    "# Convert from integer to float\n",
    "int_to_float = float(15) #These codes converts the data value\n",
    "print(int_to_float) #These codes will print the converted data value\n",
    "print(type(int_to_float)) #These codes will print the data type"
   ],
   "metadata": {
    "trusted": true,
    "id": "azeTiEL8uaLX"
   },
   "outputs": [],
   "execution_count": null
  },
  {
   "cell_type": "code",
   "source": [
    "# Convert from float to integer\n",
    "float_to_int = int(23.56)\n",
    "print(float_to_int)\n",
    "print(type(float_to_int))"
   ],
   "metadata": {
    "trusted": true,
    "id": "NOAyEeATuaLY"
   },
   "outputs": [],
   "execution_count": null
  },
  {
   "cell_type": "code",
   "source": [
    "#Convert from integer to string\n",
    "int_to_string = str(51)\n",
    "print(int_to_string)\n",
    "print(type(int_to_string))"
   ],
   "metadata": {
    "trusted": true,
    "id": "X4ClSJAOuaLY"
   },
   "outputs": [],
   "execution_count": null
  },
  {
   "cell_type": "code",
   "source": [
    "#Convert from string to integer\n",
    "string_to_integer = int(\"6589\")\n",
    "print(string_to_integer)\n",
    "print(type(string_to_integer))"
   ],
   "metadata": {
    "trusted": true,
    "id": "9u63Kul9uaLY"
   },
   "outputs": [],
   "execution_count": null
  },
  {
   "cell_type": "markdown",
   "source": [
    "#### Exercise:"
   ],
   "metadata": {
    "id": "1YMwtPVluaLZ"
   }
  },
  {
   "cell_type": "markdown",
   "source": [
    "1. Determine and print the type of the following variables\n",
    "\n",
    "* variable1 = 123\n",
    "* variable2 = \"123\"\n",
    "* variable3 = 123.456"
   ],
   "metadata": {
    "id": "Mbm6Cm_3uaLZ"
   }
  },
  {
   "cell_type": "code",
   "source": [
    "# Write code here.\n",
    "variable1 = 123 # Int\n",
    "variable2 = \"123\" # String\n",
    "variable3 = 123.456 # Float\n",
    "print(type(variable1))\n",
    "print(type(variable2))\n",
    "print(type(variable3))"
   ],
   "metadata": {
    "trusted": true,
    "id": "spVmFUScuaLZ",
    "outputId": "cae421c5-2ab9-467a-9367-d30e1983d643"
   },
   "outputs": [
    {
     "name": "stdout",
     "output_type": "stream",
     "text": "<class 'int'>\n<class 'str'>\n<class 'float'>\n"
    }
   ],
   "execution_count": null
  },
  {
   "cell_type": "markdown",
   "source": [
    "2. Convert the following variables and print the result\n",
    "\n",
    "* Convert this float into an integer\n",
    "    - variable4 = 23.0\n",
    "* Convert this string into an integer\n",
    "    - variable5 = \"6000\""
   ],
   "metadata": {
    "id": "nfsdblHuuaLZ"
   }
  },
  {
   "cell_type": "code",
   "source": [
    "# Write code here.\n",
    "variable4 = 23.0\n",
    "variable5 = \"6000\"\n",
    "variable4 = int(variable4)\n",
    "variable5 = int(variable5)\n",
    "print(f\"variable4 ({variable4}) is of type: {type(variable4)}\")\n",
    "print(f\"variable5 ({variable5}) is of type: {type(variable5)}\")"
   ],
   "metadata": {
    "trusted": true,
    "id": "ChxYlHn-uaLa",
    "outputId": "b8d7fe73-47be-41e5-f64b-b8644faf160b"
   },
   "outputs": [
    {
     "name": "stdout",
     "output_type": "stream",
     "text": "variable4 (23) is of type: <class 'int'>\nvariable5 (6000) is of type: <class 'int'>\n"
    }
   ],
   "execution_count": null
  },
  {
   "cell_type": "markdown",
   "source": [
    "### Lists"
   ],
   "metadata": {
    "id": "RKT1bfonuaLa"
   }
  },
  {
   "cell_type": "markdown",
   "source": [
    "#### Examples:"
   ],
   "metadata": {
    "id": "4ai-waf6uaLb"
   }
  },
  {
   "cell_type": "code",
   "source": [
    "listOfNumbers = [1,2,3,4,5,6,7,8,9,10]\n",
    "print(listOfNumbers)\n",
    "print(\"\\n\")\n",
    "listOfFruits = [\"apples\", \"bananas\", \"cherries\"]\n",
    "print(listOfFruits)\n",
    "print(\"\\n\")\n",
    "listOfStuff = [10, \"apples\", 3.14, [\"ant\", \"bee\"]]\n",
    "print(listOfStuff)\n",
    "print(\"This list contains an integer, a string, a float and a list.\")"
   ],
   "metadata": {
    "trusted": true,
    "id": "oIkd0DjTuaLb"
   },
   "outputs": [],
   "execution_count": null
  },
  {
   "cell_type": "code",
   "source": [
    "#List Indexing\n",
    "myList01 = [\"apples\", \"bananas\", \"cherries\", \"dragonfruit\", \"elderberry\"]\n",
    "print(myList01[0])\n",
    "print(myList01[2])\n",
    "print(myList01[-4])\n",
    "print(myList01[-1])\n",
    "print(\"\\n\")"
   ],
   "metadata": {
    "trusted": true,
    "id": "WtUym5b4uaLb"
   },
   "outputs": [],
   "execution_count": null
  },
  {
   "cell_type": "code",
   "source": [
    "#List Slicing\n",
    "myList = [\"apples\", \"bananas\", \"cherries\", \"dragonfruit\", \"elderberry\"]\n",
    "#Accessing the first item in the list\n",
    "print(myList[0])\n",
    "#Accessing the first 3 items in the list\n",
    "print(myList[0:3])\n",
    "#Accessing the last 2 items in the list\n",
    "print(myList[3:5])"
   ],
   "metadata": {
    "trusted": true,
    "id": "DrWr44rcuaLb"
   },
   "outputs": [],
   "execution_count": null
  },
  {
   "cell_type": "code",
   "source": [
    "#APPEND METHOD\n",
    "#Append a string item\n",
    "myList = [\"apples\", \"bananas\", \"cherries\"]\n",
    "myList.append(\"blueberries\")\n",
    "print(myList)\n",
    "#Append a list - blueberries and cantaloupes are grouped as 1 element\n",
    "myList = [\"apples\", \"bananas\", \"cherries\"]\n",
    "myList.append([\"blueberries\", \"cataloupes\"])\n",
    "print(myList)"
   ],
   "metadata": {
    "trusted": true,
    "id": "n63kOIIQuaLb"
   },
   "outputs": [],
   "execution_count": null
  },
  {
   "cell_type": "code",
   "source": [
    "#EXTEND METHOD\n",
    "#This adds new elements in myList\n",
    "myList = [\"apples\", \"bananas\", \"cherries\"]\n",
    "myList.extend([\"blueberries\", \"cataloupes\"])\n",
    "print(myList)"
   ],
   "metadata": {
    "trusted": true,
    "id": "fgIIacnDuaLb"
   },
   "outputs": [],
   "execution_count": null
  },
  {
   "cell_type": "code",
   "source": [
    "#INSERT METHOD\n",
    "myList = [\"apples\", \"bananas\", \"cherries\"]\n",
    "myList.insert(2, \"blueberries\")\n",
    "print(myList)"
   ],
   "metadata": {
    "trusted": true,
    "id": "EQVgU-ltuaLb"
   },
   "outputs": [],
   "execution_count": null
  },
  {
   "cell_type": "code",
   "source": [
    "#REMOVE METHOD\n",
    "myList = [\"apples\", \"bananas\", \"cherries\"]\n",
    "myList.remove(\"cherries\")\n",
    "print(myList)"
   ],
   "metadata": {
    "trusted": true,
    "id": "tspMoyvbuaLc"
   },
   "outputs": [],
   "execution_count": null
  },
  {
   "cell_type": "code",
   "source": [
    "#POP METHOD\n",
    "myList = [\"apples\", \"bananas\", \"cherries\"]\n",
    "removedElement = myList.pop(2)\n",
    "print(myList)\n",
    "print(removedElement)"
   ],
   "metadata": {
    "trusted": true,
    "id": "4VPuQgJHuaLc"
   },
   "outputs": [],
   "execution_count": null
  },
  {
   "cell_type": "code",
   "source": [
    "#DELETE METHOD\n",
    "myList = [\"apples\", \"bananas\", \"cherries\"]\n",
    "del(myList[2])\n",
    "print(myList)"
   ],
   "metadata": {
    "trusted": true,
    "id": "a3pLD_53uaLc"
   },
   "outputs": [],
   "execution_count": null
  },
  {
   "cell_type": "markdown",
   "source": [
    "#### Exercise:"
   ],
   "metadata": {
    "id": "zRK_EZsnuaLc"
   }
  },
  {
   "cell_type": "markdown",
   "source": [
    "Create and print a list with these elements: Adam, Adora, Ella\n",
    "> Please create the list before every question below\n",
    "\n",
    "1. List indexing: Find the third element in the list"
   ],
   "metadata": {
    "id": "7mzmIIiEuaLc"
   }
  },
  {
   "cell_type": "code",
   "source": [
    "# Write code here.\n",
    "names = [\"Adam\",\"Adora\",\"Ella\"]\n",
    "print(names[2])"
   ],
   "metadata": {
    "trusted": true,
    "id": "Fa_-DaS7uaLc",
    "outputId": "e15c5452-abdc-46e4-835f-b56ca3df946f"
   },
   "outputs": [
    {
     "name": "stdout",
     "output_type": "stream",
     "text": "Ella\n"
    }
   ],
   "execution_count": null
  },
  {
   "cell_type": "markdown",
   "source": [
    "2. List slicing: Access the last 2 items in the list"
   ],
   "metadata": {
    "id": "gD3lIyMSuaLd"
   }
  },
  {
   "cell_type": "code",
   "source": [
    "# Write code here.\n",
    "names = [\"Adam\",\"Adora\",\"Ella\"]\n",
    "print(names[1:3])"
   ],
   "metadata": {
    "trusted": true,
    "id": "uT5q1sgDuaLd",
    "outputId": "a7b83a2a-4647-4848-911a-7f0c84860f9f"
   },
   "outputs": [
    {
     "name": "stdout",
     "output_type": "stream",
     "text": "['Adora', 'Ella']\n"
    }
   ],
   "execution_count": null
  },
  {
   "cell_type": "markdown",
   "source": [
    "3. Add these elements to the list using the append and extend methods: Lila, James"
   ],
   "metadata": {
    "id": "-5flnfZcuaLd"
   }
  },
  {
   "cell_type": "code",
   "source": [
    "# Write code here.\n",
    "names = [\"Adam\",\"Adora\",\"Ella\"]\n",
    "names.append(\"Lila\")\n",
    "names.append(\"James\")\n",
    "print(names)"
   ],
   "metadata": {
    "trusted": true,
    "id": "P6uYKjtMuaLd",
    "outputId": "56ae74af-bff6-4a0a-b5ac-3fce15765baf"
   },
   "outputs": [
    {
     "name": "stdout",
     "output_type": "stream",
     "text": "['Adam', 'Adora', 'Ella', 'Lila', 'James']\n"
    }
   ],
   "execution_count": null
  },
  {
   "cell_type": "code",
   "source": [
    "names = [\"Adam\",\"Adora\",\"Ella\"]\n",
    "names.extend([\"Lila\",\"James\"])\n",
    "print(names)"
   ],
   "metadata": {
    "trusted": true,
    "id": "efOYlRSLuaLe",
    "outputId": "44e65b77-0908-4a02-dab5-d0db306cb95e"
   },
   "outputs": [
    {
     "name": "stdout",
     "output_type": "stream",
     "text": "['Adam', 'Adora', 'Ella', 'Lila', 'James']\n"
    }
   ],
   "execution_count": null
  },
  {
   "cell_type": "markdown",
   "source": [
    "4. Insert this element to the list after the second element: Lila"
   ],
   "metadata": {
    "id": "Pu1dVy9CuaLe"
   }
  },
  {
   "cell_type": "code",
   "source": [
    "# Write code here.\n",
    "names = [\"Adam\",\"Adora\",\"Ella\"]\n",
    "names.insert(2, \"Lila\")\n",
    "print(names)"
   ],
   "metadata": {
    "trusted": true,
    "id": "63KeMyeMuaLe",
    "outputId": "54e0200d-02aa-4a82-9c1e-381b932c1cd6"
   },
   "outputs": [
    {
     "name": "stdout",
     "output_type": "stream",
     "text": "['Adam', 'Adora', 'Lila', 'Ella']\n"
    }
   ],
   "execution_count": null
  },
  {
   "cell_type": "markdown",
   "source": [
    "5. Remove Adam from the list"
   ],
   "metadata": {
    "id": "IrDUpqw2uaLe"
   }
  },
  {
   "cell_type": "code",
   "source": [
    "# Write code here.\n",
    "names = [\"Adam\",\"Adora\",\"Ella\"]\n",
    "names.remove(\"Adam\")\n",
    "print(names)"
   ],
   "metadata": {
    "trusted": true,
    "id": "Q34YJ6UZuaLe",
    "outputId": "0ffa3aa5-f4b5-453f-c9b1-a062b814787d"
   },
   "outputs": [
    {
     "name": "stdout",
     "output_type": "stream",
     "text": "['Adora', 'Ella']\n"
    }
   ],
   "execution_count": null
  },
  {
   "cell_type": "markdown",
   "source": [
    "6. Remove the second element from the list using pop and delete"
   ],
   "metadata": {
    "id": "Mdj9MamcuaLe"
   }
  },
  {
   "cell_type": "code",
   "source": [
    "# Write code here.\n",
    "names = [\"Adam\",\"Adora\",\"Ella\"]\n",
    "names.pop(1)\n",
    "#del(names[1])\n",
    "print(names)"
   ],
   "metadata": {
    "trusted": true,
    "id": "pdP8KPrAuaLe",
    "outputId": "de439531-960b-485f-f592-77a05a3daecf"
   },
   "outputs": [
    {
     "name": "stdout",
     "output_type": "stream",
     "text": "['Adam', 'Ella']\n"
    }
   ],
   "execution_count": null
  },
  {
   "cell_type": "markdown",
   "source": [
    "### Dictionaries"
   ],
   "metadata": {
    "id": "dQNY8Xb9uaLf"
   }
  },
  {
   "cell_type": "markdown",
   "source": [
    "#### Examples:"
   ],
   "metadata": {
    "id": "r2oMpmdyuaLf"
   }
  },
  {
   "cell_type": "code",
   "source": [
    "myCar = {\n",
    "   \"Brand\": \"Hyundai\",\n",
    "   \"Model\": \"Palisade\",\n",
    "   \"Year\": 2020\n",
    "}\n",
    "print(myCar)\n",
    "\n",
    "student={\"Name\": \"Tom Tomlin\", \"Age\": 24, \"School\": \"Newcastle University\"}\n",
    "print(student)\n",
    "\n",
    "#Access the value directly\n",
    "print(myCar[\"Model\"])\n",
    "#Access the value by assigning it to a new variable\n",
    "studentName = student[\"Name\"]\n",
    "print(studentName)"
   ],
   "metadata": {
    "trusted": true,
    "id": "wvkOaDMCuaLf"
   },
   "outputs": [],
   "execution_count": null
  },
  {
   "cell_type": "code",
   "source": [
    "myCar = {\n",
    "   \"Brand\": \"Hyundai\",\n",
    "   \"Model\": \"Palisade\",\n",
    "   \"Year\": 2020\n",
    "}\n",
    "#Add the new key:value element\n",
    "myCar[\"Color\"] = \"Wine Red\"\n",
    "#You will see the update when you print the dictionary\n",
    "print(myCar)"
   ],
   "metadata": {
    "trusted": true,
    "id": "Z3HDICADuaLf"
   },
   "outputs": [],
   "execution_count": null
  },
  {
   "cell_type": "code",
   "source": [
    "myCar = {\n",
    "   \"Brand\": \"Hyundai\",\n",
    "   \"Model\": \"Palisade\",\n",
    "   \"Year\": 2020\n",
    "}\n",
    "#Update the new value by referencing the key\n",
    "myCar[\"Model\"] = \"Genesis\"\n",
    "#You will see the update when you print the dictionary\n",
    "print(myCar)"
   ],
   "metadata": {
    "trusted": true,
    "id": "kLbKuITOuaLf"
   },
   "outputs": [],
   "execution_count": null
  },
  {
   "cell_type": "code",
   "source": [
    "myCar = {\n",
    "   \"Brand\": \"Hyundai\",\n",
    "   \"Model\": \"Palisade\",\n",
    "   \"Year\": 2020\n",
    "}\n",
    "#Remove the element by referencing the key\n",
    "myCar.pop(\"Model\")\n",
    "#You will see the update when you print the dictionary\n",
    "print(myCar)"
   ],
   "metadata": {
    "trusted": true,
    "id": "bD_pYCyvuaLf"
   },
   "outputs": [],
   "execution_count": null
  },
  {
   "cell_type": "markdown",
   "source": [
    "#### Exercises:"
   ],
   "metadata": {
    "id": "ZGGMZGcxuaLf"
   }
  },
  {
   "cell_type": "markdown",
   "source": [
    "1. Create a new dictionary database called myClass as an empty dictionary. Add the following key-value pairs:"
   ],
   "metadata": {
    "id": "CsA1PXO2uaLf"
   }
  },
  {
   "cell_type": "raw",
   "source": [
    "|--------------|----------------------------|--------|\n",
    "| Keys         | Values                     | Types  |\n",
    "|--------------|----------------------------|--------|\n",
    "| \"Instructor\" | \"Anna\"                     | String |\n",
    "| \"Assistants\" | [\"Ted\", \"Nat\", \"Wei Meng\"] | List   |\n",
    "| \"Students\"   | 20\t                        | Int    |"
   ],
   "metadata": {
    "id": "B-UeKZnQuaLf"
   }
  },
  {
   "cell_type": "markdown",
   "source": [
    "2. Add a fourth assistant to your database, named Mark\n",
    "\n",
    "3. Someone from another class has joined this class. add the students count by 1\n",
    "\n",
    "4. Print out everything you know about your database.\n",
    "\n",
    "**Expected Output:**\n",
    "\n",
    "{\"Instructor\": \"Anna\", \"Assistants\": [\"Ted\", \"Nat\", \"Wei Meng\", \"Mark\"], \"Students\": 21 }tudents\": 21 }"
   ],
   "metadata": {
    "id": "Bt4F4NLouaLf"
   }
  },
  {
   "cell_type": "code",
   "source": [
    "# Write code here.\n",
    "myClass = {}\n",
    "myClass = {\"Instructor\":\"Anna\",\n",
    "           \"Assistants\":[\"Ted\",\"Nt\",\"Wei Meng\"],\n",
    "           \"Students\": 20}\n",
    "myClass[\"Assistants\"].append(\"Mark\")\n",
    "myClass[\"Students\"] += 1\n",
    "print(myClass)"
   ],
   "metadata": {
    "trusted": true,
    "id": "XVoWmXg7uaLg",
    "outputId": "aa83febc-fc02-4d05-80eb-e97e2101d0df",
    "ExecuteTime": {
     "end_time": "2025-02-04T13:03:52.388670Z",
     "start_time": "2025-02-04T13:03:52.384296Z"
    }
   },
   "outputs": [
    {
     "name": "stdout",
     "output_type": "stream",
     "text": [
      "{'Instructor': 'Anna', 'Assistants': ['Ted', 'Nt', 'Wei Meng', 'Mark'], 'Students': 21}\n"
     ]
    }
   ],
   "execution_count": 1
  },
  {
   "cell_type": "markdown",
   "source": [
    "### Input Function"
   ],
   "metadata": {
    "id": "kjVhdGOMuaLg"
   }
  },
  {
   "cell_type": "markdown",
   "source": [
    "#### Examples:"
   ],
   "metadata": {
    "id": "hH1HRlcQuaLg"
   }
  },
  {
   "cell_type": "code",
   "source": [
    "#EXAMPLE 1\n",
    "#1. Request for user input\n",
    "name = input(\"Enter your name: \")\n",
    "#2. Print user's input. This line of code uses concatenation (from unit 1.4).\n",
    "print(\"Your name is \" + name + \".\")\n",
    "print(\"\\n\")"
   ],
   "metadata": {
    "trusted": true,
    "id": "HyOP9LjHuaLg"
   },
   "outputs": [],
   "execution_count": null
  },
  {
   "cell_type": "code",
   "source": [
    "#EXAMPLE 2\n",
    "#1. Request for user input\n",
    "users_choice = input(\"Do you want to continue? (Yes/No): \")\n",
    "#2. Print user's input. This line of code uses concatenation (from unit 1.4).\n",
    "print(\"You have chosen \" + users_choice + \".\")"
   ],
   "metadata": {
    "trusted": true,
    "id": "zwOcrxxquaLg"
   },
   "outputs": [],
   "execution_count": null
  },
  {
   "cell_type": "code",
   "source": [
    "# Using Inputs function with numbers\n",
    "#BEFORE TYPE CONVERSION\n",
    "x = input(\"Enter first number: \")  #1. Ask user to input the first number\n",
    "y = input(\"Enter second number: \")  #2. Ask user to input the second number\n",
    "z = x + y  #3. Tell Python to add the numbers\n",
    "print(z)  #4. Tell Python to print the result"
   ],
   "metadata": {
    "trusted": true,
    "id": "12OEmJdLuaLg"
   },
   "outputs": [],
   "execution_count": null
  },
  {
   "cell_type": "code",
   "source": [
    "#AFTER TYPE CONVERSION\n",
    "x = int(input(\"Enter first number: \"))\n",
    "y = int(input(\"Enter second number: \"))\n",
    "z = x + y\n",
    "print(z)"
   ],
   "metadata": {
    "trusted": true,
    "id": "eZ3XyZtiuaLg"
   },
   "outputs": [],
   "execution_count": null
  },
  {
   "cell_type": "markdown",
   "source": [
    "Compare the results. Can you tell the difference?\n"
   ],
   "metadata": {
    "id": "iH-ypINAuaLg"
   }
  },
  {
   "cell_type": "markdown",
   "source": [
    "#### Exercises:\n",
    "Request for user input and print them out\n",
    "\n",
    "1. Request fothe r user's fauourite fruit\n",
    "\n",
    "2. the Ask user how many family members they have\n",
    "\n",
    "3the . Ask user for 2 numbers and strac\n",
    "\n",
    "t them"
   ],
   "metadata": {
    "id": "yq0Q4m9JuaLg"
   }
  },
  {
   "cell_type": "code",
   "source": [
    "# Write code here.\n",
    "fav_fruit = input(\"Enter your favourite fruit: \")\n",
    "print(fav_fruit)\n",
    "\n",
    "Family_members = input(\"Enter the number of family members: \")\n",
    "print(Family_members)\n",
    "\n",
    "x = int(input(\"Enter first number: \"))\n",
    "y = int(input(\"Enter second number: \"))\n",
    "z = x + y\n",
    "print(z)"
   ],
   "metadata": {
    "trusted": true,
    "colab": {
     "base_uri": "https://localhost:8080/"
    },
    "id": "SO3br2pNuaLg",
    "outputId": "31f12290-2735-4c05-a3a7-d8611e2539bb"
   },
   "outputs": [
    {
     "output_type": "stream",
     "name": "stdout",
     "text": [
      "Enter your favourite fruit: Mango\n",
      "Mango\n",
      "Enter the number of family members: 4\n",
      "4\n",
      "Enter first number: 1\n",
      "Enter second number: 2\n",
      "3\n"
     ]
    }
   ],
   "execution_count": 1
  },
  {
   "cell_type": "markdown",
   "source": [
    "### Arithmetic Operators"
   ],
   "metadata": {
    "id": "ZPOcCt_tuaLh"
   }
  },
  {
   "cell_type": "markdown",
   "source": [
    "#### Examples:"
   ],
   "metadata": {
    "id": "It7gC8eLuaLh"
   }
  },
  {
   "cell_type": "code",
   "source": [
    "x = 5\n",
    "y = 3\n",
    "print(\"x = 5\")\n",
    "print(\"y = 3\")\n",
    "print(\"\\n\")\n",
    "\n",
    "#Addition\n",
    "addition = x + y\n",
    "print(\"Addition: x + y = \" + str(addition))"
   ],
   "metadata": {
    "trusted": true,
    "id": "Vun_oDG4uaLh"
   },
   "outputs": [],
   "execution_count": null
  },
  {
   "cell_type": "code",
   "source": [
    "#Subtraction\n",
    "subtraction = x - y\n",
    "print(\"Subtraction: x + y = \" + str(subtraction))"
   ],
   "metadata": {
    "trusted": true,
    "id": "bxyPFXFWuaLh"
   },
   "outputs": [],
   "execution_count": null
  },
  {
   "cell_type": "code",
   "source": [
    "#Multiplication\n",
    "multiplication = x * y\n",
    "print(\"Multiplication: x * y = \" + str(multiplication))"
   ],
   "metadata": {
    "trusted": true,
    "id": "fQjHBXyHuaLh"
   },
   "outputs": [],
   "execution_count": null
  },
  {
   "cell_type": "code",
   "source": [
    "#Division\n",
    "division1 = x / y\n",
    "print(\"Division: x / y = \" + str(division1))"
   ],
   "metadata": {
    "trusted": true,
    "id": "KiMByPu_uaLh"
   },
   "outputs": [],
   "execution_count": null
  },
  {
   "cell_type": "code",
   "source": [
    "#Division (round down/ floor)\n",
    "division2 = x // y\n",
    "print(\"Division: x / y = \" + str(division2))"
   ],
   "metadata": {
    "trusted": true,
    "id": "sgvbiH1euaLh"
   },
   "outputs": [],
   "execution_count": null
  },
  {
   "cell_type": "code",
   "source": [
    "#Modulus (remainder)\n",
    "modulus = x % y\n",
    "print(\"Modulus: x % y = \" + str(modulus))"
   ],
   "metadata": {
    "trusted": true,
    "id": "jsLkXZg7uaLh"
   },
   "outputs": [],
   "execution_count": null
  },
  {
   "cell_type": "code",
   "source": [
    "#Power\n",
    "power = x ** y\n",
    "print(\"Power: x ** y = \" + str(power))"
   ],
   "metadata": {
    "trusted": true,
    "id": "BZCSTfwyuaLh"
   },
   "outputs": [],
   "execution_count": null
  },
  {
   "cell_type": "markdown",
   "source": [
    "#### Exercise:"
   ],
   "metadata": {
    "id": "pmmgQ7IEuaLh"
   }
  },
  {
   "cell_type": "markdown",
   "source": [
    "Use the operators to solve the following equations\n",
    "\n",
    "1. 6 + 4\n",
    "\n",
    "2. ((27 * 2) + 46) ** 0.5\n",
    "\n",
    "3. Find the modulus of 35 / 6"
   ],
   "metadata": {
    "id": "YhNfNUgWuaLh"
   }
  },
  {
   "cell_type": "code",
   "source": [
    "# Write code here.\n",
    "print(6 + 4)\n",
    "print(((27 *2) + 46)**0.5)\n",
    "print(35%6)"
   ],
   "metadata": {
    "trusted": true,
    "colab": {
     "base_uri": "https://localhost:8080/"
    },
    "id": "_gItMhYAuaLh",
    "outputId": "69914794-0b05-4ce9-ab54-356f24de2b30"
   },
   "outputs": [
    {
     "output_type": "stream",
     "name": "stdout",
     "text": [
      "10\n",
      "10.0\n",
      "5\n"
     ]
    }
   ],
   "execution_count": 2
  },
  {
   "cell_type": "markdown",
   "source": [
    "### Comparison Operators"
   ],
   "metadata": {
    "id": "b-hDd9nVuaLi"
   }
  },
  {
   "cell_type": "markdown",
   "source": [
    "#### Examples:"
   ],
   "metadata": {
    "id": "dlGIa7DDuaLi"
   }
  },
  {
   "cell_type": "code",
   "source": [
    "x = 10\n",
    "y = 5\n",
    "print(\"x = 10\")\n",
    "print(\"y = 5\")"
   ],
   "metadata": {
    "trusted": true,
    "id": "sukNeH-duaLi"
   },
   "outputs": [],
   "execution_count": null
  },
  {
   "cell_type": "code",
   "source": [
    "print(\"Is x == y? (equal to)\")\n",
    "print(x == y)"
   ],
   "metadata": {
    "trusted": true,
    "id": "fr3o5nEKuaLi"
   },
   "outputs": [],
   "execution_count": null
  },
  {
   "cell_type": "code",
   "source": [
    "print(\"\\nIs x != y? (not equal to)\")\n",
    "print(x != y)"
   ],
   "metadata": {
    "trusted": true,
    "id": "A3nvWtXTuaLi"
   },
   "outputs": [],
   "execution_count": null
  },
  {
   "cell_type": "code",
   "source": [
    "print(\"\\nIs x > y? (greater than)\")\n",
    "print(x > y)"
   ],
   "metadata": {
    "trusted": true,
    "id": "jF7YPCWeuaLi"
   },
   "outputs": [],
   "execution_count": null
  },
  {
   "cell_type": "code",
   "source": [
    "print(\"\\nIs x < y? (less than)\")\n",
    "print(x < y)"
   ],
   "metadata": {
    "trusted": true,
    "id": "sT5w2ZWOuaLi"
   },
   "outputs": [],
   "execution_count": null
  },
  {
   "cell_type": "code",
   "source": [
    "print(\"\\nIs x >= y? (greater than or equal to)\")\n",
    "print(x >= y)"
   ],
   "metadata": {
    "trusted": true,
    "id": "10aaIWewuaLi"
   },
   "outputs": [],
   "execution_count": null
  },
  {
   "cell_type": "code",
   "source": [
    "print(\"\\nIs x <= y? (less than or equal to)\")\n",
    "print(x <= y)"
   ],
   "metadata": {
    "trusted": true,
    "id": "1U4wKARCuaLi"
   },
   "outputs": [],
   "execution_count": null
  },
  {
   "cell_type": "markdown",
   "source": [
    "#### Exercise:"
   ],
   "metadata": {
    "id": "-ylGF8Y1uaLi"
   }
  },
  {
   "cell_type": "markdown",
   "source": [
    "Use the operators to solve for the following equation and print the outputs\n",
    "\n",
    "1. 3 > 4\n",
    "2. 3 == 4\n",
    "3. 15 != 3"
   ],
   "metadata": {
    "id": "0spx0YYhuaLi"
   }
  },
  {
   "cell_type": "code",
   "source": [
    "# Write code here.\n",
    "print(3 > 4)\n",
    "print(3 == 4)\n",
    "print(15 != 3)"
   ],
   "metadata": {
    "trusted": true,
    "colab": {
     "base_uri": "https://localhost:8080/"
    },
    "id": "5TzYAjd8uaLi",
    "outputId": "e4cfc4aa-a0f1-4a85-9ee4-4ba01c104f54"
   },
   "outputs": [
    {
     "output_type": "stream",
     "name": "stdout",
     "text": [
      "False\n",
      "False\n",
      "True\n"
     ]
    }
   ],
   "execution_count": 3
  },
  {
   "cell_type": "markdown",
   "source": [
    "### Logical Operators"
   ],
   "metadata": {
    "id": "RvV_nrVAuaLi"
   }
  },
  {
   "cell_type": "markdown",
   "source": [
    "#### Example:"
   ],
   "metadata": {
    "id": "Bsmk_65yuaLi"
   }
  },
  {
   "cell_type": "code",
   "source": [
    "#and\n",
    "x = 10\n",
    "print(x > 5 and x < 15)\n",
    "#This returns True because 10 is greater than 5 AND 10 is less than 15."
   ],
   "metadata": {
    "trusted": true,
    "id": "eduKW_W0uaLi"
   },
   "outputs": [],
   "execution_count": null
  },
  {
   "cell_type": "code",
   "source": [
    "#or\n",
    "x = 10\n",
    "print(x > 5 or x < 2)\n",
    "#This returns True because one of the conditions are true.\n",
    "#10 is greater than 5, but 10 is not less than 2."
   ],
   "metadata": {
    "trusted": true,
    "id": "mpM2DHYEuaLj"
   },
   "outputs": [],
   "execution_count": null
  },
  {
   "cell_type": "code",
   "source": [
    "#not\n",
    "x = 10\n",
    "print(not(x > 5 and x < 15))\n",
    "#This returns False because not reverses the result of and."
   ],
   "metadata": {
    "trusted": true,
    "id": "oFHX90aluaLj"
   },
   "outputs": [],
   "execution_count": null
  },
  {
   "cell_type": "markdown",
   "source": [
    "#### Exercise:"
   ],
   "metadata": {
    "id": "wudeGEyKuaLj"
   }
  },
  {
   "cell_type": "markdown",
   "source": [
    "Use the operators to evaluate whether these statements are  True  or   False.\n",
    "\n",
    "1. \tx = 200\n",
    "\n",
    "print(x > 4 or x < 300\n",
    "22. 3 != 4 and 3 < 4\n",
    "33. x = 20\n",
    "0\n",
    "print(not(x > 4 or x < )30"
   ],
   "metadata": {
    "id": "fDsiN-IjuaLj"
   }
  },
  {
   "cell_type": "code",
   "source": [
    "# Write code here.\n",
    "x = 200\n",
    "print(x > 4 or x < 300)\n",
    "print(3 != 4 and 3 < 4)\n",
    "print(not(x > 4 or x < 30))"
   ],
   "metadata": {
    "trusted": true,
    "id": "tABADv-VuaLj",
    "ExecuteTime": {
     "end_time": "2025-02-04T13:09:11.713998Z",
     "start_time": "2025-02-04T13:09:11.708377Z"
    }
   },
   "outputs": [
    {
     "name": "stdout",
     "output_type": "stream",
     "text": [
      "True\n",
      "True\n",
      "False\n"
     ]
    }
   ],
   "execution_count": 2
  },
  {
   "cell_type": "markdown",
   "source": [
    "### Identity Operators"
   ],
   "metadata": {
    "id": "zuBfFnN9uaLj"
   }
  },
  {
   "cell_type": "markdown",
   "source": [
    "#### Examples:"
   ],
   "metadata": {
    "id": "OSiVtsd6uaLj"
   }
  },
  {
   "cell_type": "code",
   "source": [
    "x = [\"bread\", \"cake\"]\n",
    "y = [\"bread\", \"cake\"]\n",
    "z = x\n",
    "\n",
    "#is\n",
    "print(x is z)\n",
    "#This returns true as x has been assigned to z, therefore, z and x points to the same object.\n",
    "\n",
    "print(type(x) is list)\n",
    "#This returns true as x is indeed a list object.\n",
    "\n",
    "#Note that is is not the same as == (equals to)"
   ],
   "metadata": {
    "trusted": true,
    "id": "XxlouXQluaLj"
   },
   "outputs": [],
   "execution_count": null
  },
  {
   "cell_type": "code",
   "source": [
    "#is not\n",
    "print(x is not y)\n",
    "#This returns true as x and y are not the same objects even though they have the same content.\n",
    "\n",
    "print(type(z) is not list)\n",
    "#This returns false as z is indeed list x."
   ],
   "metadata": {
    "trusted": true,
    "id": "JllZCvdQuaLj"
   },
   "outputs": [],
   "execution_count": null
  },
  {
   "cell_type": "markdown",
   "source": [
    "#### Exercise:"
   ],
   "metadata": {
    "id": "PbC7IpuXuaLj"
   }
  },
  {
   "cell_type": "markdown",
   "source": [
    "Use the operators to evaluate the following.\n",
    "\n",
    "1. x = 200\n",
    "\n",
    "y = 50\n",
    "0\n",
    "z =\n",
    "\n",
    "\n",
    "print(z i\n",
    "\n",
    "2. x = 200\n",
    "\n",
    "y = 50\n",
    "0\n",
    "z y\n",
    "y\n",
    "\n",
    "print(x is not y)s y)"
   ],
   "metadata": {
    "id": "z0M4fTqmuaLj"
   }
  },
  {
   "cell_type": "code",
   "source": [
    "# Write code here.\n",
    "x = 200\n",
    "y = 50\n",
    "z = 0\n",
    "print(z is x)\n",
    "print(x is not y)"
   ],
   "metadata": {
    "trusted": true,
    "id": "g19CKGlKuaLj",
    "ExecuteTime": {
     "end_time": "2025-02-04T13:09:33.775782Z",
     "start_time": "2025-02-04T13:09:33.771193Z"
    }
   },
   "outputs": [
    {
     "name": "stdout",
     "output_type": "stream",
     "text": [
      "False\n",
      "True\n"
     ]
    }
   ],
   "execution_count": 3
  },
  {
   "cell_type": "markdown",
   "source": [
    "### Membership Operators"
   ],
   "metadata": {
    "id": "Lq3BBXXkuaLj"
   }
  },
  {
   "cell_type": "markdown",
   "source": [
    "#### Examples:"
   ],
   "metadata": {
    "id": "CVguD4KquaLj"
   }
  },
  {
   "cell_type": "code",
   "source": [
    "#in\n",
    "x = \"Hello, World!\"\n",
    "print(\"ello\" in x) #Returns true as it exists\n",
    "print(\"hello\" in x) #Returns false as 'h' is in lowercase\n",
    "print(\"World\" in x)#Returns true as it exists"
   ],
   "metadata": {
    "trusted": true,
    "id": "gtgvZpf7uaLj"
   },
   "outputs": [],
   "execution_count": null
  },
  {
   "cell_type": "code",
   "source": [
    "#not in\n",
    "x = \"Hello, World!\"\n",
    "print(\"ello\" not in x) #Returns false as it exists\n",
    "print(\"hello\" not in x) #Returns true as it does not exist\n",
    "print(\"World\" not in x) #Returns false as it exists"
   ],
   "metadata": {
    "trusted": true,
    "id": "D8JE7wSouaLk"
   },
   "outputs": [],
   "execution_count": null
  },
  {
   "cell_type": "markdown",
   "source": [
    "#### Exercise:"
   ],
   "metadata": {
    "id": "BpSYIvtBuaLk"
   }
  },
  {
   "cell_type": "markdown",
   "source": [
    "Use the operators to solve for the following equations.\n",
    "\n",
    "1. Is 200 in \"200 years ago?\"\n",
    "2. Is \"apples\" in this list [\"apple\", \"bananas\", \"cherries\"]\n",
    "3. \"et\" is not in \"Let's go for a meal!\" True or False?"
   ],
   "metadata": {
    "id": "iofxhjcWuaLk"
   }
  },
  {
   "cell_type": "code",
   "source": [
    "# Write code here.\n",
    "print(\"200\" in \"200 years ago?\")\n",
    "print(\"apples\" in [\"apple\", \"bananas\", \"cherries\"])\n",
    "print(\"et\" not in \"Let's go for a meal!\")"
   ],
   "metadata": {
    "trusted": true,
    "id": "XTJBB9knuaLk",
    "ExecuteTime": {
     "end_time": "2025-02-04T13:09:58.818918Z",
     "start_time": "2025-02-04T13:09:58.803577Z"
    }
   },
   "outputs": [
    {
     "name": "stdout",
     "output_type": "stream",
     "text": [
      "True\n",
      "False\n",
      "False\n"
     ]
    }
   ],
   "execution_count": 5
  },
  {
   "cell_type": "markdown",
   "source": [
    "### Conditional Statements:"
   ],
   "metadata": {
    "id": "B8Gd5JLCuaLk"
   }
  },
  {
   "cell_type": "markdown",
   "source": [
    "#### Examples:"
   ],
   "metadata": {
    "id": "2-z907wzuaLk"
   }
  },
  {
   "cell_type": "code",
   "source": [
    "#If Statement\n",
    "#Example 1\n",
    "x = 3\n",
    "if x >= 2:\n",
    "  print(\"x is bigger than or equal to 2.\")"
   ],
   "metadata": {
    "trusted": true,
    "id": "iloJ-rO3uaLk"
   },
   "outputs": [],
   "execution_count": null
  },
  {
   "cell_type": "code",
   "source": [
    "#Example 2\n",
    "x = -5\n",
    "y = 5\n",
    "if x > 0 or y > 0:\n",
    "  print(\"Either x or y is bigger than 0.\")"
   ],
   "metadata": {
    "trusted": true,
    "id": "zEvoTA47uaLk"
   },
   "outputs": [],
   "execution_count": null
  },
  {
   "cell_type": "code",
   "source": [
    "#If-else statement\n",
    "#Example 1\n",
    "x = 30\n",
    "if x >= 50:\n",
    "  print(\"x bigger than or equals to 50.\")\n",
    "else:\n",
    "  print(\"x is a number smaller than 50.\")"
   ],
   "metadata": {
    "trusted": true,
    "id": "dkhzdwwtuaLk"
   },
   "outputs": [],
   "execution_count": null
  },
  {
   "cell_type": "code",
   "source": [
    "#Example 2\n",
    "y = 300 // 23\n",
    "if y == 13:\n",
    "  print(\"The modulus of y is 13.\")\n",
    "else:\n",
    "  print(\"The modulus of y is not 13.\")"
   ],
   "metadata": {
    "trusted": true,
    "id": "bUbcGCYuuaLk"
   },
   "outputs": [],
   "execution_count": null
  },
  {
   "cell_type": "code",
   "source": [
    "#if-elif-else statement\n",
    "a = 100\n",
    "b = 20\n",
    "if b > a:\n",
    "  print(\"b is greater than a\")\n",
    "elif a == b:\n",
    "  print(\"a and b are equal\")\n",
    "else:\n",
    "  print(\"a is greater than b\")"
   ],
   "metadata": {
    "trusted": true,
    "id": "dZ0h9c3muaLk"
   },
   "outputs": [],
   "execution_count": null
  },
  {
   "cell_type": "markdown",
   "source": [
    "#### Exercise:"
   ],
   "metadata": {
    "id": "mtuKj4AHuaLk"
   }
  },
  {
   "cell_type": "markdown",
   "source": [
    "1. If - Assign 10 to x. If x is bigger than 0, print \"x is a positive number\".\n",
    "\n",
    "2. If-else - Assign -50 to y. If x is bigger than 0, print \"x is a positive number\". Else, print \"x is a negative number\".\n",
    "\n",
    "3. If-elif-else - Assign 0 to z. If x is bigger than 0, print \"x is a positive number\". Else if x is zero, print \"x is 0\". Else, print \"x is a negative number\"."
   ],
   "metadata": {
    "id": "9uGgfks7uaLk"
   }
  },
  {
   "cell_type": "code",
   "source": [
    "# Write code here.\n",
    "x = 10\n",
    "if x > 0:\n",
    "    print(\"x is a positive number\")\n",
    "\n",
    "y = -50\n",
    "if y > 0:\n",
    "    print(\"y is a positive number\")\n",
    "else:\n",
    "    print(\"y is a negative number\")\n",
    "\n",
    "z = 0\n",
    "if z > 0:\n",
    "    print(\"z is a positive number\")\n",
    "elif z == 0:\n",
    "    print(\"z is 0\")\n",
    "else:\n",
    "    print(\"z is a negative number\")"
   ],
   "metadata": {
    "trusted": true,
    "id": "HfDxvOU2uaLk",
    "ExecuteTime": {
     "end_time": "2025-02-04T13:10:32.934712Z",
     "start_time": "2025-02-04T13:10:32.929013Z"
    }
   },
   "outputs": [
    {
     "name": "stdout",
     "output_type": "stream",
     "text": [
      "x is a positive number\n",
      "y is a negative number\n",
      "z is 0\n"
     ]
    }
   ],
   "execution_count": 6
  },
  {
   "cell_type": "markdown",
   "source": [
    "### For Loops"
   ],
   "metadata": {
    "id": "rxcLwIUzuaLk"
   }
  },
  {
   "cell_type": "markdown",
   "source": [
    "#### Examples:"
   ],
   "metadata": {
    "id": "6mUG8sL3uaLk"
   }
  },
  {
   "cell_type": "code",
   "source": [
    "#for loops in a list\n",
    "fruits = [\"apples\", \"bananas\", \"cherries\"]\n",
    "for x in fruits:\n",
    "  print (x)"
   ],
   "metadata": {
    "trusted": true,
    "id": "rk8Z4x1yuaLl"
   },
   "outputs": [],
   "execution_count": null
  },
  {
   "cell_type": "code",
   "source": [
    "#for loops in strings\n",
    "for x in \"bananas\":\n",
    "  print(x)"
   ],
   "metadata": {
    "trusted": true,
    "id": "A5oukFktuaLl"
   },
   "outputs": [],
   "execution_count": null
  },
  {
   "cell_type": "code",
   "source": [
    "#for loops with breaks\n",
    "studentsList = [\"Anna\", \"Adora\", \"Adam\"]\n",
    "for student in studentsList:\n",
    "  print(student)\n",
    "  if student == \"Anna\": #telling the codes to stop after Adora\n",
    "    break"
   ],
   "metadata": {
    "trusted": true,
    "id": "UrA9-k05uaLl"
   },
   "outputs": [],
   "execution_count": null
  },
  {
   "cell_type": "code",
   "source": [
    "#for loops with continue\n",
    "for char in \"bananas\":\n",
    "  if char == \"a\": #telling the codes to skip all the a character, and continue\n",
    "    continue\n",
    "  print(char)"
   ],
   "metadata": {
    "trusted": true,
    "id": "PbQsPh4ZuaLl"
   },
   "outputs": [],
   "execution_count": null
  },
  {
   "cell_type": "markdown",
   "source": [
    "#### Exercise:"
   ],
   "metadata": {
    "id": "icpK3duduaLl"
   }
  },
  {
   "cell_type": "markdown",
   "source": [
    "1. Create a list containing 5 names and use the  for  loop to print out all the names\n",
    "\n",
    "2. Use the same list from number 1, use  break  to stop after the third element.\n",
    "\n",
    "3. Iterate the string \"hullaballoo\". Use  continue  to skip all the letter 'l', and print the rest."
   ],
   "metadata": {
    "id": "7KASgVGkuaLl"
   }
  },
  {
   "cell_type": "code",
   "source": [
    "# Write code here.\n",
    "names = [\"Adam\",\"Adora\",\"Ella\",\"Lila\",\"James\"]\n",
    "for name in names:\n",
    "    print(name)\n",
    "for name in names:\n",
    "    print(name)\n",
    "    if name == \"Ella\":\n",
    "        break\n",
    "\n",
    "for letters in \"hullaballoo\":\n",
    "    if letters == \"l\":\n",
    "        continue\n",
    "    print(letters)"
   ],
   "metadata": {
    "trusted": true,
    "id": "Qu7cv74AuaLl",
    "ExecuteTime": {
     "end_time": "2025-02-04T13:11:27.459433Z",
     "start_time": "2025-02-04T13:11:27.455215Z"
    }
   },
   "outputs": [
    {
     "name": "stdout",
     "output_type": "stream",
     "text": [
      "Adam\n",
      "Adora\n",
      "Ella\n",
      "Lila\n",
      "James\n",
      "Adam\n",
      "Adora\n",
      "Ella\n",
      "h\n",
      "u\n",
      "a\n",
      "b\n",
      "a\n",
      "o\n",
      "o\n"
     ]
    }
   ],
   "execution_count": 7
  },
  {
   "cell_type": "markdown",
   "source": [
    "### While Loops"
   ],
   "metadata": {
    "id": "AGR1GA7suaLl"
   }
  },
  {
   "cell_type": "markdown",
   "source": [
    "#### Examples:"
   ],
   "metadata": {
    "id": "mY99htqBuaLl"
   }
  },
  {
   "cell_type": "code",
   "source": [
    "i = 1\n",
    "while i < 5:\n",
    "  print(i)"
   ],
   "metadata": {
    "trusted": true,
    "id": "Cg_Dvtp_uaLl"
   },
   "outputs": [],
   "execution_count": null
  },
  {
   "cell_type": "code",
   "source": [
    "i = 1\n",
    "while i < 5:\n",
    "  print(i)\n",
    "  i += 1\n",
    "else:\n",
    "    print(\"i is no longer less than 5\")"
   ],
   "metadata": {
    "trusted": true,
    "id": "43CR2YG7uaLl"
   },
   "outputs": [],
   "execution_count": null
  },
  {
   "cell_type": "code",
   "source": [
    "i = 1\n",
    "while i < 10:\n",
    "  print(i)\n",
    "  if i == 5: #tells the code to break when it reaches a value of 5\n",
    "    break\n",
    "  i += 1 #tells the code to add 1 to each iteration"
   ],
   "metadata": {
    "trusted": true,
    "id": "aY3Y7My3uaLl"
   },
   "outputs": [],
   "execution_count": null
  },
  {
   "cell_type": "code",
   "source": [
    "i = 0\n",
    "while i < 5:\n",
    "  i += 1  #adds 1 to each iteration\n",
    "  if i == 2:\n",
    "    continue  #if i is equals to 2, skip it and continue to print the next\n",
    "  print(i)"
   ],
   "metadata": {
    "trusted": true,
    "id": "F_30qAU8uaLl"
   },
   "outputs": [],
   "execution_count": null
  },
  {
   "cell_type": "markdown",
   "source": [
    "#### Exercises:"
   ],
   "metadata": {
    "id": "kteLTaUxuaLl"
   }
  },
  {
   "cell_type": "markdown",
   "source": [
    "Assign the integer 10 to variable i and increase it by 10 for each iteration.\n",
    "\n",
    "1.  while  loop - Print the iteration as long as it is below 100.\n",
    "\n",
    "2.  while  loops with  continue  - Skip the iteration when it is at 50.\n",
    "\n",
    "3.  while  loops with  break  - Stop the iteration at 70.\n",
    "\n",
    "4.  while  loops with  else  - Once the iteration reaches 100, print \"i is no longer less than 100\"."
   ],
   "metadata": {
    "id": "0jSHo4NCuaLl"
   }
  },
  {
   "cell_type": "code",
   "source": [
    "# Write code here.\n",
    "i = 10\n",
    "while i < 100:\n",
    "    print(i)\n",
    "    i += 10\n",
    "    if i == 50:\n",
    "        continue\n",
    "    if i == 70:\n",
    "        break\n",
    "else:\n",
    "    print(\"i is no longer less than 100\")"
   ],
   "metadata": {
    "trusted": true,
    "id": "9O27qihFuaLm",
    "ExecuteTime": {
     "end_time": "2025-02-04T13:12:11.454978Z",
     "start_time": "2025-02-04T13:12:11.449943Z"
    }
   },
   "outputs": [
    {
     "name": "stdout",
     "output_type": "stream",
     "text": [
      "10\n",
      "20\n",
      "30\n",
      "40\n",
      "50\n",
      "60\n"
     ]
    }
   ],
   "execution_count": 8
  },
  {
   "cell_type": "markdown",
   "source": [
    "### Functions"
   ],
   "metadata": {
    "id": "LBxuBqXDuaLm"
   }
  },
  {
   "cell_type": "markdown",
   "source": [
    "#### Exercises:"
   ],
   "metadata": {
    "id": "X3JTeFHxuaLm"
   }
  },
  {
   "cell_type": "markdown",
   "source": [
    "Let's create a function that will help us check if a number is prime.\n",
    "\n",
    "A number is prime if the number is only divisible by 1 and itself.\n",
    "\n",
    "This function will take in 1 argument, N, which is the number we want to check. Next, it will go through all the numbers from 1 to N and perform modulo checks.lohe"
   ],
   "metadata": {
    "id": "w9mCLVRwuaLm"
   }
  },
  {
   "cell_type": "code",
   "source": [
    "# Write code here.\n",
    "def is_prime(N):\n",
    "    for i in range(2,N):\n",
    "        if N % i == 0:\n",
    "            return False\n",
    "    return True\n",
    "\n",
    "print(is_prime(7))"
   ],
   "metadata": {
    "trusted": true,
    "id": "GHeiIxqUuaLm",
    "ExecuteTime": {
     "end_time": "2025-02-04T13:13:32.935970Z",
     "start_time": "2025-02-04T13:13:32.930358Z"
    }
   },
   "outputs": [
    {
     "name": "stdout",
     "output_type": "stream",
     "text": [
      "True\n"
     ]
    }
   ],
   "execution_count": 10
  },
  {
   "cell_type": "markdown",
   "source": [
    "1. You have 103 apples and would like to share them with 5 people. Write a function to find the remainder.\n",
    "> Hints: 5 % 4 gives remainder when 5 divided by 4\n",
    ">\n",
    "\n",
    "2. Write a recursive function that will return the nth term of the Fibonacci sequence.\n",
    "> The sequence has a relationship of Fn = Fn-1 + Fn-2 with F0 = 0 and F1 = 1, where n=0,1,2,3,4,5,...\n",
    ">\n",
    ">\n",
    "The sequence looks like: 0,1,1,2,3,5,8,13,.\n",
    "\n",
    "3. Write a function that will count how many odd numbers is present in a given list of integers.\n",
    "> Hint: Use this list to check your function\n",
    "[1,2,3,4,5,6,7,8,9,10,11,12,13,14,15,16,17,18,19,20\n",
    "\n",
    "4. Write a lambda expression that will cube all the numbers in the list below\n",
    "\n",
    "num = [1,2,3,4,5,6,7,8]].."
   ],
   "metadata": {
    "id": "btRkrrkmuaLm"
   }
  },
  {
   "cell_type": "code",
   "source": [
    "# Write code here.\n",
    "def remainder(apples, people):\n",
    "    return apples % people\n",
    "print(remainder(103,5))\n",
    "\n",
    "def fibonacci(n):\n",
    "    if n <= 1:\n",
    "        return n\n",
    "    else:\n",
    "        return fibonacci(n-1) + fibonacci(n-2)\n",
    "print(fibonacci(7))\n",
    "\n",
    "def odd_count(lst):\n",
    "    count = 0\n",
    "    for i in lst:\n",
    "        if i % 2 != 0:\n",
    "            count += 1\n",
    "    return count\n",
    "print(odd_count([1,2,3,4,5,6,7,8,9,10,11,12,13,14,15,16,17,18,19,20]))\n",
    "\n",
    "cube = lambda x: x**3\n",
    "num = [1,2,3,4,5,6,7,8]\n",
    "print(list(map(cube, num)))"
   ],
   "metadata": {
    "trusted": true,
    "id": "mRGVzfEtuaLm",
    "ExecuteTime": {
     "end_time": "2025-02-04T13:16:02.876350Z",
     "start_time": "2025-02-04T13:16:02.871389Z"
    }
   },
   "outputs": [
    {
     "name": "stdout",
     "output_type": "stream",
     "text": [
      "3\n",
      "13\n",
      "10\n",
      "[1, 8, 27, 64, 125, 216, 343, 512]\n"
     ]
    }
   ],
   "execution_count": 11
  },
  {
   "metadata": {},
   "cell_type": "code",
   "outputs": [],
   "execution_count": null,
   "source": ""
  }
 ]
}
